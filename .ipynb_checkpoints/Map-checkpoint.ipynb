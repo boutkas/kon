{
 "cells": [
  {
   "cell_type": "code",
   "execution_count": null,
   "metadata": {},
   "outputs": [],
   "source": [
    "from bs4 import BeautifulSoup\n",
    "import requests\n",
    "import pandas as pd\n",
    "\n",
    "#Use requests to parse wikipedia page\n",
    "r  = requests.get(\"https://en.wikipedia.org/wiki/List_of_postal_codes_of_Canada:_M\")\n",
    "#Get the page as text\n",
    "data = r.text\n",
    "\n",
    "#Import data to beautiful soup\n",
    "soup = BeautifulSoup(data)\n",
    "\n",
    "#find the table\n",
    "table = soup.find_all('table')[0]\n",
    "\n",
    "#parse the data of the table\n",
    "df = pd.read_html(str(table), header=0)[0]\n",
    "\n",
    "#Clean Borough values that are not assigned\n",
    "df = df[df['Borough'] != \"Not assigned\"]\n",
    "\n",
    "#Translate Neighbourhood values to Borough when they are not assigned\n",
    "df.loc[df['Neighbourhood'] == \"Not assigned\",'Neighbourhood'] = df['Borough']\n",
    "\n",
    "#Group Neighbourhood values that belong to the same borough\n",
    "df2 =  pd.DataFrame(df.groupby(['Postcode'],as_index=True)['Neighbourhood'].apply(lambda x: \"%s\" % ', '.join(x)))\n",
    "df.set_index('Postcode', inplace=True,)\n",
    "\n",
    "#Drop Neighbourhood column because we will get it from the other frame\n",
    "df.drop(columns=['Neighbourhood'], inplace=True)\n",
    "\n",
    "#Join the two dataframe into one by postcode as index\n",
    "df3 = df2.join(df, how='outer')\n",
    "\n",
    "#Drop duplicates\n",
    "df3.drop_duplicates(inplace=True)\n",
    "df = df3[['Borough','Neighbourhood']]\n",
    "\n",
    "#Print results\n",
    "df.shape\n"
   ]
  },
  {
   "cell_type": "code",
   "execution_count": null,
   "metadata": {},
   "outputs": [],
   "source": [
    "import pandas as pd\n",
    "\n",
    "#Parse coordinates from csv\n",
    "dftest = pd.read_csv('Geospatial_Coordinates.csv')\n",
    "\n",
    "#make postal code column index in order to join the other table\n",
    "dftest.set_index('Postal Code', inplace=True,)\n",
    "dftest = df.join(dftest, how='outer')\n",
    "dftest.reset_index(level=0, inplace=True)\n",
    "dftest"
   ]
  },
  {
   "cell_type": "code",
   "execution_count": null,
   "metadata": {},
   "outputs": [],
   "source": [
    "import folium\n",
    "\n",
    "#Build the map of Toronto\n",
    "m = folium.Map([43.653963, -79.387207], zoom_start=11)\n",
    "\n",
    "\n",
    "\n",
    "# mark each pair of coordinates as a point\n",
    "for index, row in dftest.iterrows():\n",
    "    folium.CircleMarker([row['Latitude'], row['Longitude']],\n",
    "                        radius=6,\n",
    "                        fill_color=\"#3db7e4\",\n",
    "                       ).add_to(m)\n",
    "#view map\n",
    "m\n"
   ]
  }
 ],
 "metadata": {
  "kernelspec": {
   "display_name": "Python 3",
   "language": "python",
   "name": "python3"
  },
  "language_info": {
   "codemirror_mode": {
    "name": "ipython",
    "version": 3
   },
   "file_extension": ".py",
   "mimetype": "text/x-python",
   "name": "python",
   "nbconvert_exporter": "python",
   "pygments_lexer": "ipython3",
   "version": "3.7.1"
  }
 },
 "nbformat": 4,
 "nbformat_minor": 2
}

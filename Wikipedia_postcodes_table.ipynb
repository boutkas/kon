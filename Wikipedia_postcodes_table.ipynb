{
 "cells": [
  {
   "cell_type": "code",
   "execution_count": 1,
   "metadata": {},
   "outputs": [
    {
     "data": {
      "text/plain": [
       "(103, 2)"
      ]
     },
     "execution_count": 1,
     "metadata": {},
     "output_type": "execute_result"
    }
   ],
   "source": [
    "from bs4 import BeautifulSoup\n",
    "import requests\n",
    "import pandas as pd\n",
    "\n",
    "#Use requests to parse wikipedia page\n",
    "r  = requests.get(\"https://en.wikipedia.org/wiki/List_of_postal_codes_of_Canada:_M\")\n",
    "#Get the page as text\n",
    "data = r.text\n",
    "\n",
    "#Import data to beautiful soup\n",
    "soup = BeautifulSoup(data)\n",
    "\n",
    "#find the table\n",
    "table = soup.find_all('table')[0]\n",
    "\n",
    "#parse the data of the table\n",
    "df = pd.read_html(str(table), header=0)[0]\n",
    "\n",
    "#Clean Borough values that are not assigned\n",
    "df = df[df['Borough'] != \"Not assigned\"]\n",
    "\n",
    "#Translate Neighbourhood values to Borough when they are not assigned\n",
    "df.loc[df['Neighbourhood'] == \"Not assigned\",'Neighbourhood'] = df['Borough']\n",
    "\n",
    "#Group Neighbourhood values that belong to the same borough\n",
    "df2 =  pd.DataFrame(df.groupby(['Postcode'],as_index=True)['Neighbourhood'].apply(lambda x: \"%s\" % ', '.join(x)))\n",
    "df.set_index('Postcode', inplace=True,)\n",
    "\n",
    "#Drop Neighbourhood column because we will get it from the other frame\n",
    "df.drop(columns=['Neighbourhood'], inplace=True)\n",
    "\n",
    "#Join the two dataframe into one by postcode as index\n",
    "df3 = df2.join(df, how='outer')\n",
    "\n",
    "#Drop duplicates\n",
    "df3.drop_duplicates(inplace=True)\n",
    "df = df3[['Borough','Neighbourhood']]\n",
    "\n",
    "#Print results\n",
    "df.shape\n"
   ]
  },
  {
   "cell_type": "code",
   "execution_count": null,
   "metadata": {},
   "outputs": [],
   "source": []
  }
 ],
 "metadata": {
  "kernelspec": {
   "display_name": "Python 3",
   "language": "python",
   "name": "python3"
  },
  "language_info": {
   "codemirror_mode": {
    "name": "ipython",
    "version": 3
   },
   "file_extension": ".py",
   "mimetype": "text/x-python",
   "name": "python",
   "nbconvert_exporter": "python",
   "pygments_lexer": "ipython3",
   "version": "3.7.1"
  }
 },
 "nbformat": 4,
 "nbformat_minor": 2
}
